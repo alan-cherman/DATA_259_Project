{
 "cells": [
  {
   "cell_type": "markdown",
   "id": "89fa3f0b",
   "metadata": {},
   "source": [
    "## MCMC that generates 5− or 6− letter ’name-like’ strings."
   ]
  },
  {
   "cell_type": "markdown",
   "id": "b1eb0a47",
   "metadata": {},
   "source": [
    "This is a simple MCMC that generates 5− or 6− letter ’name-like’ strings. The model is based on the frequency of letters in the English language. The model is trained on a list of names, and then it generates new names based on the learned frequencies. The model uses a Markov chain to generate new names. The Markov chain is a probabilistic model that generates a sequence of events based on the probabilities of the events. In this case, the events are the letters in the names, and the probabilities are based on the frequencies of the letters in the English language.\n",
    "\n",
    "The model will be fed its output as input recursively to simulate **model collapse**. \n",
    "\n",
    "**Model collapse:** A phenomenon where machine learning models gradually degrade due to errors coming from uncurated training on the outputs of another model, including prior versions of itself. Such outputs are known as synthetic data"
   ]
  },
  {
   "cell_type": "code",
   "execution_count": 6,
   "id": "b3fbfd82",
   "metadata": {},
   "outputs": [],
   "source": [
    "import numpy as np\n",
    "import pandas as pd\n",
    "import random\n",
    "\n",
    "trigram = pd.read_csv(\"Data/names_trigrams.csv\")"
   ]
  },
  {
   "cell_type": "code",
   "execution_count": 8,
   "id": "7e72a103",
   "metadata": {},
   "outputs": [
    {
     "name": "stdout",
     "output_type": "stream",
     "text": [
      "tunic -23.323203230175135\n",
      "annet -17.02067261320233\n",
      "alari -18.123275312484935\n",
      "erlee -19.754602712349346\n",
      "ashar -15.280976211630323\n",
      "renes -18.161396887178515\n",
      "shane -14.914441638999541\n",
      "nnate -19.212475746738384\n",
      "aniec -20.153092954394708\n",
      "erele -19.17458903801898\n",
      "imarl -17.950542204963913\n",
      "hanat -17.292684932287493\n",
      "atanc -19.940315305428825\n",
      "ndend -20.1681031405166\n",
      "unash -20.98228539211931\n"
     ]
    }
   ],
   "source": [
    "##################\n",
    "#Helper Functions#\n",
    "##################\n",
    "\n",
    "def generate_random_string(n):\n",
    "    alphabet = list(map(chr, range(ord('a'), ord('z') + 1)))\n",
    "    random_string = []\n",
    "    for i in range(n):\n",
    "        random_string.append(alphabet[random.randint(0,len(alphabet)-1)])\n",
    "    return ''.join(random_string)\n",
    "\n",
    "\n",
    "def score_string(s, trigram_df):\n",
    "    trigram_dict = dict(zip(trigram_df['Unnamed: 0'], trigram_df['Probability']))\n",
    "    smoothing_factor = 1e-6\n",
    "    score = 0\n",
    "    trigrams = [s[i:i+3] for i in range(len(s) - 2)]\n",
    "    for tri in trigrams:\n",
    "        if tri in trigram_dict:\n",
    "            score += np.log(trigram_dict[tri])\n",
    "        else:\n",
    "            score += np.log(smoothing_factor)\n",
    "    \n",
    "    return score\n",
    "\n",
    "\n",
    "def modify_string(s):\n",
    "    alphabet = list(map(chr, range(ord('a'), ord('z') + 1)))\n",
    "    s_list = list(s)\n",
    "    id_change = random.randint(0,len(s)-1)\n",
    "    s_list[id_change] = alphabet[random.randint(0, len(alphabet)-1)]\n",
    "    s = ''.join(s_list)\n",
    "\n",
    "    return s\n",
    "    \n",
    "######\n",
    "#MCMC#\n",
    "######\n",
    "\n",
    "total_trigrams = trigram['Count'].sum()\n",
    "trigram['Probability'] = trigram['Count'] / total_trigrams\n",
    "\n",
    "current_string = generate_random_string(5)  # or 6\n",
    "current_score = score_string(current_string, trigram)\n",
    "temperature = 1\n",
    "\n",
    "# MCMC process\n",
    "n_runs = 15\n",
    "n_iters = 5000\n",
    "for run in range(n_runs):\n",
    "    for iter in range(n_iters):\n",
    "        new_string = modify_string(current_string)\n",
    "        new_score = score_string(new_string, trigram)\n",
    "        if new_score > current_score:\n",
    "            current_string = new_string\n",
    "            current_score = new_score\n",
    "        else:\n",
    "            if random.random() < np.exp((new_score - current_score) / temperature):\n",
    "                current_string = new_string\n",
    "                current_score = new_score\n",
    "\n",
    "    print(current_string, current_score)\n"
   ]
  }
 ],
 "metadata": {
  "kernelspec": {
   "display_name": "base",
   "language": "python",
   "name": "python3"
  },
  "language_info": {
   "codemirror_mode": {
    "name": "ipython",
    "version": 3
   },
   "file_extension": ".py",
   "mimetype": "text/x-python",
   "name": "python",
   "nbconvert_exporter": "python",
   "pygments_lexer": "ipython3",
   "version": "3.12.2"
  }
 },
 "nbformat": 4,
 "nbformat_minor": 5
}
